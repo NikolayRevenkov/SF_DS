{
 "cells": [
  {
   "cell_type": "code",
   "execution_count": 21,
   "metadata": {},
   "outputs": [
    {
     "data": {
      "text/html": [
       "<div>\n",
       "<style scoped>\n",
       "    .dataframe tbody tr th:only-of-type {\n",
       "        vertical-align: middle;\n",
       "    }\n",
       "\n",
       "    .dataframe tbody tr th {\n",
       "        vertical-align: top;\n",
       "    }\n",
       "\n",
       "    .dataframe thead th {\n",
       "        text-align: right;\n",
       "    }\n",
       "</style>\n",
       "<table border=\"1\" class=\"dataframe\">\n",
       "  <thead>\n",
       "    <tr style=\"text-align: right;\">\n",
       "      <th></th>\n",
       "      <th>country</th>\n",
       "      <th>description</th>\n",
       "      <th>designation</th>\n",
       "      <th>points</th>\n",
       "      <th>price</th>\n",
       "      <th>province</th>\n",
       "      <th>region_1</th>\n",
       "      <th>region_2</th>\n",
       "      <th>taster_name</th>\n",
       "      <th>taster_twitter_handle</th>\n",
       "      <th>title</th>\n",
       "      <th>variety</th>\n",
       "      <th>winery</th>\n",
       "    </tr>\n",
       "  </thead>\n",
       "  <tbody>\n",
       "    <tr>\n",
       "      <th>0</th>\n",
       "      <td>Italy</td>\n",
       "      <td>Aromas include tropical fruit, broom, brimston...</td>\n",
       "      <td>Vulkà Bianco</td>\n",
       "      <td>87</td>\n",
       "      <td>NaN</td>\n",
       "      <td>Sicily &amp; Sardinia</td>\n",
       "      <td>Etna</td>\n",
       "      <td>NaN</td>\n",
       "      <td>Kerin O’Keefe</td>\n",
       "      <td>@kerinokeefe</td>\n",
       "      <td>Nicosia 2013 Vulkà Bianco  (Etna)</td>\n",
       "      <td>White Blend</td>\n",
       "      <td>Nicosia</td>\n",
       "    </tr>\n",
       "    <tr>\n",
       "      <th>1</th>\n",
       "      <td>Portugal</td>\n",
       "      <td>This is ripe and fruity, a wine that is smooth...</td>\n",
       "      <td>Avidagos</td>\n",
       "      <td>87</td>\n",
       "      <td>15.0</td>\n",
       "      <td>Douro</td>\n",
       "      <td>NaN</td>\n",
       "      <td>NaN</td>\n",
       "      <td>Roger Voss</td>\n",
       "      <td>@vossroger</td>\n",
       "      <td>Quinta dos Avidagos 2011 Avidagos Red (Douro)</td>\n",
       "      <td>Portuguese Red</td>\n",
       "      <td>Quinta dos Avidagos</td>\n",
       "    </tr>\n",
       "  </tbody>\n",
       "</table>\n",
       "</div>"
      ],
      "text/plain": [
       "    country                                        description   designation  \\\n",
       "0     Italy  Aromas include tropical fruit, broom, brimston...  Vulkà Bianco   \n",
       "1  Portugal  This is ripe and fruity, a wine that is smooth...      Avidagos   \n",
       "\n",
       "   points  price           province region_1 region_2    taster_name  \\\n",
       "0      87    NaN  Sicily & Sardinia     Etna      NaN  Kerin O’Keefe   \n",
       "1      87   15.0              Douro      NaN      NaN     Roger Voss   \n",
       "\n",
       "  taster_twitter_handle                                          title  \\\n",
       "0          @kerinokeefe              Nicosia 2013 Vulkà Bianco  (Etna)   \n",
       "1            @vossroger  Quinta dos Avidagos 2011 Avidagos Red (Douro)   \n",
       "\n",
       "          variety               winery  \n",
       "0     White Blend              Nicosia  \n",
       "1  Portuguese Red  Quinta dos Avidagos  "
      ]
     },
     "metadata": {},
     "output_type": "display_data"
    },
    {
     "data": {
      "text/plain": [
       "'Число уникальных дегустаторов '"
      ]
     },
     "metadata": {},
     "output_type": "display_data"
    },
    {
     "data": {
      "text/plain": [
       "19"
      ]
     },
     "metadata": {},
     "output_type": "display_data"
    },
    {
     "data": {
      "text/plain": [
       "'Максимальная цена за бутылку составила '"
      ]
     },
     "metadata": {},
     "output_type": "display_data"
    },
    {
     "data": {
      "text/plain": [
       "3300.0"
      ]
     },
     "metadata": {},
     "output_type": "display_data"
    },
    {
     "name": "stdout",
     "output_type": "stream",
     "text": [
      "<class 'pandas.core.frame.DataFrame'>\n",
      "Int64Index: 9983 entries, 2408 to 129913\n",
      "Data columns (total 13 columns):\n",
      " #   Column                 Non-Null Count  Dtype  \n",
      "---  ------                 --------------  -----  \n",
      " 0   country                9979 non-null   object \n",
      " 1   description            9983 non-null   object \n",
      " 2   designation            7063 non-null   object \n",
      " 3   points                 9983 non-null   int64  \n",
      " 4   price                  9382 non-null   float64\n",
      " 5   province               9979 non-null   object \n",
      " 6   region_1               8296 non-null   object \n",
      " 7   region_2               3742 non-null   object \n",
      " 8   taster_name            8656 non-null   object \n",
      " 9   taster_twitter_handle  8216 non-null   object \n",
      " 10  title                  9983 non-null   object \n",
      " 11  variety                9983 non-null   object \n",
      " 12  winery                 9983 non-null   object \n",
      "dtypes: float64(1), int64(1), object(11)\n",
      "memory usage: 662.9+ KB\n"
     ]
    },
    {
     "data": {
      "text/plain": [
       "None"
      ]
     },
     "metadata": {},
     "output_type": "display_data"
    },
    {
     "data": {
      "text/html": [
       "<div>\n",
       "<style scoped>\n",
       "    .dataframe tbody tr th:only-of-type {\n",
       "        vertical-align: middle;\n",
       "    }\n",
       "\n",
       "    .dataframe tbody tr th {\n",
       "        vertical-align: top;\n",
       "    }\n",
       "\n",
       "    .dataframe thead th {\n",
       "        text-align: right;\n",
       "    }\n",
       "</style>\n",
       "<table border=\"1\" class=\"dataframe\">\n",
       "  <thead>\n",
       "    <tr style=\"text-align: right;\">\n",
       "      <th></th>\n",
       "      <th>country</th>\n",
       "      <th>description</th>\n",
       "      <th>points</th>\n",
       "      <th>price</th>\n",
       "      <th>province</th>\n",
       "      <th>region_1</th>\n",
       "      <th>taster_name</th>\n",
       "      <th>taster_twitter_handle</th>\n",
       "      <th>title</th>\n",
       "      <th>variety</th>\n",
       "      <th>winery</th>\n",
       "    </tr>\n",
       "  </thead>\n",
       "  <tbody>\n",
       "    <tr>\n",
       "      <th>2408</th>\n",
       "      <td>US</td>\n",
       "      <td>This is weighty, creamy and medium to full in ...</td>\n",
       "      <td>85</td>\n",
       "      <td>14.0</td>\n",
       "      <td>California</td>\n",
       "      <td>North Coast</td>\n",
       "      <td>Virginie Boone</td>\n",
       "      <td>@vboone</td>\n",
       "      <td>Souverain 2010 Chardonnay (North Coast)</td>\n",
       "      <td>Chardonnay</td>\n",
       "      <td>Souverain</td>\n",
       "    </tr>\n",
       "    <tr>\n",
       "      <th>2409</th>\n",
       "      <td>Italy</td>\n",
       "      <td>There's a touch of toasted almond at the start...</td>\n",
       "      <td>85</td>\n",
       "      <td>13.0</td>\n",
       "      <td>Sicily &amp; Sardinia</td>\n",
       "      <td>Sicilia</td>\n",
       "      <td>NaN</td>\n",
       "      <td>NaN</td>\n",
       "      <td>Tasca d'Almerita 2011 Sallier de la Tour Grill...</td>\n",
       "      <td>Grillo</td>\n",
       "      <td>Tasca d'Almerita</td>\n",
       "    </tr>\n",
       "  </tbody>\n",
       "</table>\n",
       "</div>"
      ],
      "text/plain": [
       "     country                                        description  points  \\\n",
       "2408      US  This is weighty, creamy and medium to full in ...      85   \n",
       "2409   Italy  There's a touch of toasted almond at the start...      85   \n",
       "\n",
       "      price           province     region_1     taster_name  \\\n",
       "2408   14.0         California  North Coast  Virginie Boone   \n",
       "2409   13.0  Sicily & Sardinia      Sicilia             NaN   \n",
       "\n",
       "     taster_twitter_handle                                              title  \\\n",
       "2408               @vboone            Souverain 2010 Chardonnay (North Coast)   \n",
       "2409                   NaN  Tasca d'Almerita 2011 Sallier de la Tour Grill...   \n",
       "\n",
       "         variety            winery  \n",
       "2408  Chardonnay         Souverain  \n",
       "2409      Grillo  Tasca d'Almerita  "
      ]
     },
     "metadata": {},
     "output_type": "display_data"
    }
   ],
   "source": [
    "import pandas as pd\n",
    "import numpy as np\n",
    "import matplotlib.pyplot as plt\n",
    "import pandas_profiling as PP\n",
    "from pandas_profiling import ProfileReport\n",
    "\n",
    "df = pd.read_csv('C:/PY/sf_ds/EDA/wine1.csv')\n",
    "display(df.head(2))\n",
    "#display(df.info())\n",
    "display(\"Число уникальных дегустаторов \",df['taster_name'].nunique())\n",
    "display(\"Максимальная цена за бутылку составила \",df['price'].max())\n",
    "#df1=df.drop_duplicates(subset=['description'])\n",
    "#display(df.nunique())\n",
    "#df.drop_duplicates(subset=['description'])\n",
    "#display(df.info())\n",
    "#display(df1.info())\n",
    "mask = df.duplicated(subset=df.columns) # маска для фильтрации\n",
    "df1 = df[mask] # фильтруем наш датасет\n",
    "display(df1.info())\n",
    "df1=df1.drop('designation',axis=1)\n",
    "df1=df1.drop('region_2',axis=1)\n",
    "display(df1.head(2))\n",
    "profile = ProfileReport(df1, title=\"Wine Pandas Profiling Report\")\n"
   ]
  },
  {
   "cell_type": "code",
   "execution_count": 13,
   "metadata": {},
   "outputs": [
    {
     "data": {
      "text/html": [
       "<div>\n",
       "<style scoped>\n",
       "    .dataframe tbody tr th:only-of-type {\n",
       "        vertical-align: middle;\n",
       "    }\n",
       "\n",
       "    .dataframe tbody tr th {\n",
       "        vertical-align: top;\n",
       "    }\n",
       "\n",
       "    .dataframe thead th {\n",
       "        text-align: right;\n",
       "    }\n",
       "</style>\n",
       "<table border=\"1\" class=\"dataframe\">\n",
       "  <thead>\n",
       "    <tr style=\"text-align: right;\">\n",
       "      <th></th>\n",
       "      <th>Unnamed: 0</th>\n",
       "      <th>country</th>\n",
       "      <th>description</th>\n",
       "      <th>designation</th>\n",
       "      <th>points</th>\n",
       "      <th>price</th>\n",
       "      <th>province</th>\n",
       "      <th>region_1</th>\n",
       "      <th>taster_name</th>\n",
       "      <th>taster_twitter_handle</th>\n",
       "      <th>title</th>\n",
       "      <th>variety</th>\n",
       "      <th>winery</th>\n",
       "    </tr>\n",
       "  </thead>\n",
       "  <tbody>\n",
       "    <tr>\n",
       "      <th>0</th>\n",
       "      <td>0</td>\n",
       "      <td>Italy</td>\n",
       "      <td>Aromas include tropical fruit, broom, brimston...</td>\n",
       "      <td>Vulkà Bianco</td>\n",
       "      <td>87</td>\n",
       "      <td>35.363389</td>\n",
       "      <td>Sicily &amp; Sardinia</td>\n",
       "      <td>Etna</td>\n",
       "      <td>Kerin O’Keefe</td>\n",
       "      <td>@kerinokeefe</td>\n",
       "      <td>Nicosia 2013 Vulkà Bianco  (Etna)</td>\n",
       "      <td>White Blend</td>\n",
       "      <td>Nicosia</td>\n",
       "    </tr>\n",
       "    <tr>\n",
       "      <th>1</th>\n",
       "      <td>1</td>\n",
       "      <td>Portugal</td>\n",
       "      <td>This is ripe and fruity, a wine that is smooth...</td>\n",
       "      <td>Avidagos</td>\n",
       "      <td>87</td>\n",
       "      <td>15.000000</td>\n",
       "      <td>Douro</td>\n",
       "      <td>unknown</td>\n",
       "      <td>Roger Voss</td>\n",
       "      <td>@vossroger</td>\n",
       "      <td>Quinta dos Avidagos 2011 Avidagos Red (Douro)</td>\n",
       "      <td>Portuguese Red</td>\n",
       "      <td>Quinta dos Avidagos</td>\n",
       "    </tr>\n",
       "  </tbody>\n",
       "</table>\n",
       "</div>"
      ],
      "text/plain": [
       "   Unnamed: 0   country                                        description  \\\n",
       "0           0     Italy  Aromas include tropical fruit, broom, brimston...   \n",
       "1           1  Portugal  This is ripe and fruity, a wine that is smooth...   \n",
       "\n",
       "    designation  points      price           province region_1    taster_name  \\\n",
       "0  Vulkà Bianco      87  35.363389  Sicily & Sardinia     Etna  Kerin O’Keefe   \n",
       "1      Avidagos      87  15.000000              Douro  unknown     Roger Voss   \n",
       "\n",
       "  taster_twitter_handle                                          title  \\\n",
       "0          @kerinokeefe              Nicosia 2013 Vulkà Bianco  (Etna)   \n",
       "1            @vossroger  Quinta dos Avidagos 2011 Avidagos Red (Douro)   \n",
       "\n",
       "          variety               winery  \n",
       "0     White Blend              Nicosia  \n",
       "1  Portuguese Red  Quinta dos Avidagos  "
      ]
     },
     "metadata": {},
     "output_type": "display_data"
    },
    {
     "data": {
      "text/plain": [
       "35.363389129985535"
      ]
     },
     "metadata": {},
     "output_type": "display_data"
    },
    {
     "data": {
      "text/plain": [
       "28.0"
      ]
     },
     "metadata": {},
     "output_type": "display_data"
    },
    {
     "name": "stderr",
     "output_type": "stream",
     "text": [
      "C:\\Users\\Admin\\AppData\\Local\\Temp\\ipykernel_4336\\1349244533.py:19: FutureWarning: The default value of numeric_only in DataFrame.corr is deprecated. In a future version, it will default to False. Select only valid columns or specify the value of numeric_only to silence this warning.\n",
      "  display(df.corr(method = 'kendall'))\n"
     ]
    },
    {
     "data": {
      "text/html": [
       "<div>\n",
       "<style scoped>\n",
       "    .dataframe tbody tr th:only-of-type {\n",
       "        vertical-align: middle;\n",
       "    }\n",
       "\n",
       "    .dataframe tbody tr th {\n",
       "        vertical-align: top;\n",
       "    }\n",
       "\n",
       "    .dataframe thead th {\n",
       "        text-align: right;\n",
       "    }\n",
       "</style>\n",
       "<table border=\"1\" class=\"dataframe\">\n",
       "  <thead>\n",
       "    <tr style=\"text-align: right;\">\n",
       "      <th></th>\n",
       "      <th>Unnamed: 0</th>\n",
       "      <th>points</th>\n",
       "      <th>price</th>\n",
       "    </tr>\n",
       "  </thead>\n",
       "  <tbody>\n",
       "    <tr>\n",
       "      <th>Unnamed: 0</th>\n",
       "      <td>1.000000</td>\n",
       "      <td>0.006536</td>\n",
       "      <td>0.002533</td>\n",
       "    </tr>\n",
       "    <tr>\n",
       "      <th>points</th>\n",
       "      <td>0.006536</td>\n",
       "      <td>1.000000</td>\n",
       "      <td>0.433498</td>\n",
       "    </tr>\n",
       "    <tr>\n",
       "      <th>price</th>\n",
       "      <td>0.002533</td>\n",
       "      <td>0.433498</td>\n",
       "      <td>1.000000</td>\n",
       "    </tr>\n",
       "  </tbody>\n",
       "</table>\n",
       "</div>"
      ],
      "text/plain": [
       "            Unnamed: 0    points     price\n",
       "Unnamed: 0    1.000000  0.006536  0.002533\n",
       "points        0.006536  1.000000  0.433498\n",
       "price         0.002533  0.433498  1.000000"
      ]
     },
     "metadata": {},
     "output_type": "display_data"
    },
    {
     "data": {
      "text/plain": [
       "\"plt.subplot(1, 2, 1) # задаем сетку рисунка количество строк и столбцов\\nstats.probplot(df['points'], plot=plt) # qq plot\\nplt.subplot(1, 2, 2) # располагаем второй рисунок рядом\\nplt.hist(df['points']) # гистограмма распределения признака\\nplt.tight_layout() # чтобы графики не наезжали другу на друга, используем tight_layout\\nplt.show() # просмотр графика\""
      ]
     },
     "execution_count": 13,
     "metadata": {},
     "output_type": "execute_result"
    }
   ],
   "source": [
    "import pandas as pd\n",
    "import numpy as np\n",
    "import matplotlib.pyplot as plt\n",
    "from scipy import stats\n",
    "import statistics\n",
    "\n",
    "\n",
    "\n",
    "#import pandas_profiling as PP\n",
    "#from pandas_profiling import ProfileReport\n",
    "\n",
    "df = pd.read_csv('C:/PY/sf_ds/EDA/wine2.csv')\n",
    "display(df.head(2))\n",
    "#display(df['points'].min())\n",
    "#display(statistics.mean(df['price']))\n",
    "#display(df['price'].mean())\n",
    "display(statistics.mode(df['price']))\n",
    "display(df['price'].median())\n",
    "display(df.corr(method = 'kendall'))\n",
    "\n",
    "\"\"\"plt.subplot(1, 2, 1) # задаем сетку рисунка количество строк и столбцов\n",
    "stats.probplot(df['points'], plot=plt) # qq plot\n",
    "plt.subplot(1, 2, 2) # располагаем второй рисунок рядом\n",
    "plt.hist(df['points']) # гистограмма распределения признака\n",
    "plt.tight_layout() # чтобы графики не наезжали другу на друга, используем tight_layout\n",
    "plt.show() # просмотр графика\"\"\""
   ]
  },
  {
   "cell_type": "code",
   "execution_count": 14,
   "metadata": {},
   "outputs": [
    {
     "data": {
      "text/plain": [
       "-0.3333333333333333"
      ]
     },
     "execution_count": 14,
     "metadata": {},
     "output_type": "execute_result"
    }
   ],
   "source": [
    "from sklearn.metrics import matthews_corrcoef\n",
    "x = [+1, -1, +1, +1] # список значений признака х\n",
    "y = [+1, +1, +1, -1] # список значений признака y\n",
    "\n",
    "matthews_corrcoef(x, y) # рассчитаем коэффициент корреляции Мэтьюса"
   ]
  },
  {
   "cell_type": "code",
   "execution_count": 38,
   "metadata": {},
   "outputs": [
    {
     "data": {
      "text/html": [
       "<div>\n",
       "<style scoped>\n",
       "    .dataframe tbody tr th:only-of-type {\n",
       "        vertical-align: middle;\n",
       "    }\n",
       "\n",
       "    .dataframe tbody tr th {\n",
       "        vertical-align: top;\n",
       "    }\n",
       "\n",
       "    .dataframe thead th {\n",
       "        text-align: right;\n",
       "    }\n",
       "</style>\n",
       "<table border=\"1\" class=\"dataframe\">\n",
       "  <thead>\n",
       "    <tr style=\"text-align: right;\">\n",
       "      <th></th>\n",
       "      <th>Month</th>\n",
       "      <th>Year</th>\n",
       "      <th>Waist</th>\n",
       "      <th>Hips</th>\n",
       "      <th>Height</th>\n",
       "      <th>Weight</th>\n",
       "      <th>BMI</th>\n",
       "      <th>Waist/Hip</th>\n",
       "    </tr>\n",
       "  </thead>\n",
       "  <tbody>\n",
       "    <tr>\n",
       "      <th>0</th>\n",
       "      <td>December</td>\n",
       "      <td>1953</td>\n",
       "      <td>24.000000</td>\n",
       "      <td>36.000000</td>\n",
       "      <td>65.000000</td>\n",
       "      <td>118.000000</td>\n",
       "      <td>19.630000</td>\n",
       "      <td>0.670000</td>\n",
       "    </tr>\n",
       "    <tr>\n",
       "      <th>1</th>\n",
       "      <td>January</td>\n",
       "      <td>1954</td>\n",
       "      <td>23.433172</td>\n",
       "      <td>34.698708</td>\n",
       "      <td>66.057258</td>\n",
       "      <td>114.936066</td>\n",
       "      <td>18.232168</td>\n",
       "      <td>0.677916</td>\n",
       "    </tr>\n",
       "    <tr>\n",
       "      <th>2</th>\n",
       "      <td>February</td>\n",
       "      <td>1954</td>\n",
       "      <td>23.433172</td>\n",
       "      <td>34.698708</td>\n",
       "      <td>66.057258</td>\n",
       "      <td>114.936066</td>\n",
       "      <td>18.232168</td>\n",
       "      <td>0.677916</td>\n",
       "    </tr>\n",
       "    <tr>\n",
       "      <th>3</th>\n",
       "      <td>March</td>\n",
       "      <td>1954</td>\n",
       "      <td>24.000000</td>\n",
       "      <td>35.000000</td>\n",
       "      <td>66.000000</td>\n",
       "      <td>118.000000</td>\n",
       "      <td>19.040000</td>\n",
       "      <td>0.690000</td>\n",
       "    </tr>\n",
       "    <tr>\n",
       "      <th>4</th>\n",
       "      <td>April</td>\n",
       "      <td>1954</td>\n",
       "      <td>23.433172</td>\n",
       "      <td>34.698708</td>\n",
       "      <td>66.057258</td>\n",
       "      <td>114.936066</td>\n",
       "      <td>18.232168</td>\n",
       "      <td>0.677916</td>\n",
       "    </tr>\n",
       "  </tbody>\n",
       "</table>\n",
       "</div>"
      ],
      "text/plain": [
       "      Month  Year      Waist       Hips     Height      Weight        BMI  \\\n",
       "0  December  1953  24.000000  36.000000  65.000000  118.000000  19.630000   \n",
       "1   January  1954  23.433172  34.698708  66.057258  114.936066  18.232168   \n",
       "2  February  1954  23.433172  34.698708  66.057258  114.936066  18.232168   \n",
       "3     March  1954  24.000000  35.000000  66.000000  118.000000  19.040000   \n",
       "4     April  1954  23.433172  34.698708  66.057258  114.936066  18.232168   \n",
       "\n",
       "   Waist/Hip  \n",
       "0   0.670000  \n",
       "1   0.677916  \n",
       "2   0.677916  \n",
       "3   0.690000  \n",
       "4   0.677916  "
      ]
     },
     "metadata": {},
     "output_type": "display_data"
    },
    {
     "name": "stderr",
     "output_type": "stream",
     "text": [
      "C:\\Users\\Admin\\AppData\\Local\\Temp\\ipykernel_4336\\2174393714.py:21: FutureWarning: The default value of numeric_only in DataFrame.corr is deprecated. In a future version, it will default to False. Select only valid columns or specify the value of numeric_only to silence this warning.\n",
      "  sns.heatmap(df.corr(), annot = True)\n"
     ]
    },
    {
     "data": {
      "text/plain": [
       "<AxesSubplot: >"
      ]
     },
     "execution_count": 38,
     "metadata": {},
     "output_type": "execute_result"
    },
    {
     "data": {
      "image/png": "[encoded data removed]",
      "text/plain": [
       "<Figure size 640x480 with 2 Axes>"
      ]
     },
     "metadata": {},
     "output_type": "display_data"
    }
   ],
   "source": [
    "import pandas as pd\n",
    "import numpy as np\n",
    "import matplotlib.pyplot as plt\n",
    "from scipy import stats\n",
    "import statistics\n",
    "import seaborn as sns\n",
    "\n",
    "\n",
    "#import pandas_profiling as PP\n",
    "#from pandas_profiling import ProfileReport\n",
    "\n",
    "df = pd.read_csv('C:/PY/sf_ds/EDA/model.csv')\n",
    "display(df.head())\n",
    "#display(df.corr())\n",
    "#sns.heatmap(df.corr(), annot = True)\n",
    "#sns.scatterplot(data=df, x=\"Waist/Hip\", y=\"Waist\")\n",
    "\n",
    "#sns.scatterplot(data=df, x=\"Weight\", y=\"Year\")\n",
    "#sns.pairplot(df)\n",
    "#display(statistics.mean(df['Height']))\n",
    "sns.heatmap(df.corr(), annot = True)"
   ]
  },
  {
   "cell_type": "code",
   "execution_count": 42,
   "metadata": {},
   "outputs": [
    {
     "name": "stderr",
     "output_type": "stream",
     "text": [
      "c:\\Users\\Admin\\AppData\\Local\\Programs\\Python\\Python39-32\\lib\\site-packages\\sweetviz\\dataframe_report.py:74: FutureWarning: iteritems is deprecated and will be removed in a future version. Use .items instead.\n",
      "  all_source_names = [cur_name for cur_name, cur_series in source_df.iteritems()]\n",
      "c:\\Users\\Admin\\AppData\\Local\\Programs\\Python\\Python39-32\\lib\\site-packages\\sweetviz\\dataframe_report.py:109: FutureWarning: iteritems is deprecated and will be removed in a future version. Use .items instead.\n",
      "  filtered_series_names_in_source = [cur_name for cur_name, cur_series in source_df.iteritems()\n",
      "Feature: Unnamed: 0                          |▋         | [  7%]   00:00 -> (00:06 left)c:\\Users\\Admin\\AppData\\Local\\Programs\\Python\\Python39-32\\lib\\site-packages\\sweetviz\\series_analyzer_numeric.py:25: FutureWarning: The 'mad' method is deprecated and will be removed in a future version. To compute the same result, you may do `(df - df.mean()).abs().mean()`.\n",
      "  stats[\"mad\"] = series.mad()\n",
      "Feature: country                             |█▍        | [ 14%]   00:01 -> (00:07 left)c:\\Users\\Admin\\AppData\\Local\\Programs\\Python\\Python39-32\\lib\\site-packages\\sweetviz\\series_analyzer_cat.py:28: FutureWarning: iteritems is deprecated and will be removed in a future version. Use .items instead.\n",
      "  for item in category_counts.iteritems():\n",
      "Feature: description                         |██▏       | [ 21%]   00:01 -> (00:05 left)c:\\Users\\Admin\\AppData\\Local\\Programs\\Python\\Python39-32\\lib\\site-packages\\sweetviz\\series_analyzer_text.py:19: FutureWarning: iteritems is deprecated and will be removed in a future version. Use .items instead.\n",
      "  for item in to_process.source_counts[\"value_counts_without_nan\"].iteritems():\n",
      "Feature: designation                         |██▊       | [ 29%]   00:03 -> (00:08 left)c:\\Users\\Admin\\AppData\\Local\\Programs\\Python\\Python39-32\\lib\\site-packages\\sweetviz\\series_analyzer_text.py:19: FutureWarning: iteritems is deprecated and will be removed in a future version. Use .items instead.\n",
      "  for item in to_process.source_counts[\"value_counts_without_nan\"].iteritems():\n",
      "Feature: points                              |███▌      | [ 36%]   00:03 -> (00:05 left)c:\\Users\\Admin\\AppData\\Local\\Programs\\Python\\Python39-32\\lib\\site-packages\\sweetviz\\series_analyzer_numeric.py:25: FutureWarning: The 'mad' method is deprecated and will be removed in a future version. To compute the same result, you may do `(df - df.mean()).abs().mean()`.\n",
      "  stats[\"mad\"] = series.mad()\n",
      "Feature: price                               |████▎     | [ 43%]   00:03 -> (00:05 left)c:\\Users\\Admin\\AppData\\Local\\Programs\\Python\\Python39-32\\lib\\site-packages\\sweetviz\\series_analyzer_numeric.py:25: FutureWarning: The 'mad' method is deprecated and will be removed in a future version. To compute the same result, you may do `(df - df.mean()).abs().mean()`.\n",
      "  stats[\"mad\"] = series.mad()\n",
      "Feature: province                            |█████     | [ 50%]   00:04 -> (00:04 left)c:\\Users\\Admin\\AppData\\Local\\Programs\\Python\\Python39-32\\lib\\site-packages\\sweetviz\\series_analyzer_text.py:19: FutureWarning: iteritems is deprecated and will be removed in a future version. Use .items instead.\n",
      "  for item in to_process.source_counts[\"value_counts_without_nan\"].iteritems():\n",
      "Feature: region_1                            |█████▋    | [ 57%]   00:04 -> (00:03 left)c:\\Users\\Admin\\AppData\\Local\\Programs\\Python\\Python39-32\\lib\\site-packages\\sweetviz\\series_analyzer_text.py:19: FutureWarning: iteritems is deprecated and will be removed in a future version. Use .items instead.\n",
      "  for item in to_process.source_counts[\"value_counts_without_nan\"].iteritems():\n",
      "Feature: taster_name                         |██████▍   | [ 64%]   00:04 -> (00:03 left)c:\\Users\\Admin\\AppData\\Local\\Programs\\Python\\Python39-32\\lib\\site-packages\\sweetviz\\series_analyzer_cat.py:28: FutureWarning: iteritems is deprecated and will be removed in a future version. Use .items instead.\n",
      "  for item in category_counts.iteritems():\n",
      "Feature: taster_twitter_handle               |███████▏  | [ 71%]   00:04 -> (00:01 left)c:\\Users\\Admin\\AppData\\Local\\Programs\\Python\\Python39-32\\lib\\site-packages\\sweetviz\\series_analyzer_cat.py:28: FutureWarning: iteritems is deprecated and will be removed in a future version. Use .items instead.\n",
      "  for item in category_counts.iteritems():\n",
      "Feature: title                               |███████▊  | [ 79%]   00:05 -> (00:00 left)c:\\Users\\Admin\\AppData\\Local\\Programs\\Python\\Python39-32\\lib\\site-packages\\sweetviz\\series_analyzer_text.py:19: FutureWarning: iteritems is deprecated and will be removed in a future version. Use .items instead.\n",
      "  for item in to_process.source_counts[\"value_counts_without_nan\"].iteritems():\n",
      "Feature: variety                             |████████▌ | [ 86%]   00:06 -> (00:01 left)c:\\Users\\Admin\\AppData\\Local\\Programs\\Python\\Python39-32\\lib\\site-packages\\sweetviz\\series_analyzer_text.py:19: FutureWarning: iteritems is deprecated and will be removed in a future version. Use .items instead.\n",
      "  for item in to_process.source_counts[\"value_counts_without_nan\"].iteritems():\n",
      "Feature: winery                              |█████████▎| [ 93%]   00:06 -> (00:00 left)c:\\Users\\Admin\\AppData\\Local\\Programs\\Python\\Python39-32\\lib\\site-packages\\sweetviz\\series_analyzer_text.py:19: FutureWarning: iteritems is deprecated and will be removed in a future version. Use .items instead.\n",
      "  for item in to_process.source_counts[\"value_counts_without_nan\"].iteritems():\n",
      "Done! Use 'show' commands to display/save.   |██████████| [100%]   00:00 -> (00:00 left)\n"
     ]
    },
    {
     "name": "stdout",
     "output_type": "stream",
     "text": [
      "Report SWEETVIZ_REPORT.html was generated! NOTEBOOK/COLAB USERS: the web browser MAY not pop up, regardless, the report IS saved in your notebook/colab files.\n"
     ]
    }
   ],
   "source": [
    "import pandas as pd\n",
    "from pandas_profiling import ProfileReport\n",
    "import sweetviz as sv\n",
    "import dtale\n",
    "df = pd.read_csv('C:/PY/sf_ds/EDA/wine2.csv')\n",
    "#profile = ProfileReport(df, title=\"Wine Pandas Profiling Report\")\n",
    "#profile\n",
    "#report = sv.analyze(df)\n",
    "#report.show_html()\n",
    "d = dtale.show(df)\n",
    "d\n"
   ]
  }
 ],
 "metadata": {
  "kernelspec": {
   "display_name": "Python 3.9.10 32-bit",
   "language": "python",
   "name": "python3"
  },
  "language_info": {
   "codemirror_mode": {
    "name": "ipython",
    "version": 3
   },
   "file_extension": ".py",
   "mimetype": "text/x-python",
   "name": "python",
   "nbconvert_exporter": "python",
   "pygments_lexer": "ipython3",
   "version": "3.9.10"
  },
  "orig_nbformat": 4,
  "vscode": {
   "interpreter": {
    "hash": "2384371e6cf00159a93c22d0b4795d263c19487d878ce085679e41aaa5c783dd"
   }
  }
 },
 "nbformat": 4,
 "nbformat_minor": 2
}
