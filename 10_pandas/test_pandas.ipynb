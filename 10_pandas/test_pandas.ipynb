{
 "cells": [
  {
   "cell_type": "code",
   "execution_count": 13,
   "metadata": {},
   "outputs": [
    {
     "name": "stdout",
     "output_type": "stream",
     "text": [
      "7\n"
     ]
    }
   ],
   "source": [
    "import pandas as pd\n",
    "#print(pd.__name__)\n",
    "\"\"\"countries=pd.Series(\n",
    "    data = ['Англия', 'Канада', 'США', 'Россия', 'Украина', 'Беларусь', 'Казахстан'],\n",
    "    index = ['UK', 'CA', 'US', 'RU', 'UA', 'BY', 'KZ']\n",
    "    name = 'countries'\n",
    ")\"\"\"\n",
    "countries = pd.Series({\n",
    "    'UK': 'Англия',\n",
    "    'CA': 'Канада',\n",
    "    'US' : 'США',\n",
    "    'RU': 'Россия',\n",
    "    'UA': 'Украина',\n",
    "    'BY': 'Беларусь',\n",
    "    'KZ': 'Казахстан'},\n",
    "    name = 'countries'\n",
    ")\n",
    "#display(countries)\n",
    "print(len(countries.index))\n",
    "#print(countries.loc['KZ'])"
   ]
  },
  {
   "cell_type": "code",
   "execution_count": 14,
   "metadata": {},
   "outputs": [],
   "source": [
    "countries_df = pd.DataFrame({\n",
    "    'country': ['Англия', 'Канада', 'США', 'Россия', 'Украина', 'Беларусь', 'Казахстан'],\n",
    "    'population': [56.29, 38.05, 322.28, 146.24, 45.5, 9.5, 17.04],\n",
    "    'square': [133396, 9984670, 9826630, 17125191, 603628, 207600, 2724902]\n",
    "})\n",
    "\n",
    "countries_df.to_csv('data/countries.csv', index=False, sep=';')"
   ]
  },
  {
   "cell_type": "code",
   "execution_count": 16,
   "metadata": {},
   "outputs": [
    {
     "name": "stdout",
     "output_type": "stream",
     "text": [
      "     country  population    square\n",
      "0     Англия       56.29    133396\n",
      "1     Канада       38.05   9984670\n",
      "2        США      322.28   9826630\n",
      "3     Россия      146.24  17125191\n",
      "4    Украина       45.50    603628\n",
      "5   Беларусь        9.50    207600\n",
      "6  Казахстан       17.04   2724902\n"
     ]
    }
   ],
   "source": [
    "countries_data = pd.read_csv('data/countries.csv', sep=';')\n",
    "print(countries_data)"
   ]
  },
  {
   "cell_type": "code",
   "execution_count": 138,
   "metadata": {},
   "outputs": [
    {
     "name": "stdout",
     "output_type": "stream",
     "text": [
      "['index', 'Suburb', 'Address', 'Rooms', 'Type', 'Price', 'Method', 'SellerG', 'Date', 'Distance', 'Postcode', 'Bedroom', 'Bathroom', 'Car', 'Landsize', 'BuildingArea', 'YearBuilt', 'CouncilArea', 'Lattitude', 'Longtitude', 'Regionname', 'Propertycount', 'Coordinates']\n",
      "139.63397229013256    126.0\n"
     ]
    }
   ],
   "source": [
    "import pandas as pd\n",
    "melb_data = pd.read_csv('data/melb_data.csv', sep=',')\n",
    "print(list(melb_data.columns.values))\n",
    "#print(melb_data.at[3521,'Landsize'])\n",
    "#print(melb_data.at[1690,'Landsize'])\n",
    "#display(melb_data.info())\n",
    "#display(melb_data.describe())\n",
    "#melb_data['Bedroom'].value_counts(normalize=False)\n",
    "#melb_data[melb_data['BuildingArea']==0]\n",
    "#display(melb_data[(melb_data['Price'] < 3000000)&(melb_data['Type']=='h')]['Regionname'].describe())\n",
    "#display(melb_data['Price'].std())\n",
    "#display(melb_data.shape[0])\n",
    "#display(melb_data[melb_data['Rooms']==3].shape[0])\n",
    "#display(melb_data['Rooms'].max())\n",
    "#display(melb_data[(melb_data['Rooms']==3)&(melb_data['Price']<3000000)].mean())\n",
    "#print(melb_data[melb_data['Type'] == 'h']['Rooms'].mean())\n",
    "#sr_pr=melb_data['Price'].mean()\n",
    "#print(sr_pr)\n",
    "#display(melb_data[(melb_data['Price']<1000000)&((melb_data['Rooms']>5) | (melb_data['YearBuilt']>2015))]['Price'].mean())\n",
    "#melb_data['Suburb'].unique().to_csv('data/countries2.csv', index=False, sep=';')\n",
    "#display(melb_data[melb_data['Regionname']=='Propertycount'].count())\n",
    "ba_sr=melb_data['BuildingArea'].mean()\n",
    "ba_md=melb_data['BuildingArea'].median()\n",
    "print(ba_sr, '  ',ba_md)"
   ]
  },
  {
   "cell_type": "code",
   "execution_count": null,
   "metadata": {},
   "outputs": [],
   "source": []
  },
  {
   "cell_type": "code",
   "execution_count": null,
   "metadata": {},
   "outputs": [],
   "source": []
  },
  {
   "cell_type": "code",
   "execution_count": 161,
   "metadata": {},
   "outputs": [
    {
     "data": {
      "text/html": [
       "<div>\n",
       "<style scoped>\n",
       "    .dataframe tbody tr th:only-of-type {\n",
       "        vertical-align: middle;\n",
       "    }\n",
       "\n",
       "    .dataframe tbody tr th {\n",
       "        vertical-align: top;\n",
       "    }\n",
       "\n",
       "    .dataframe thead th {\n",
       "        text-align: right;\n",
       "    }\n",
       "</style>\n",
       "<table border=\"1\" class=\"dataframe\">\n",
       "  <thead>\n",
       "    <tr style=\"text-align: right;\">\n",
       "      <th></th>\n",
       "      <th>gender</th>\n",
       "      <th>race/ethnicity</th>\n",
       "      <th>parental level of education</th>\n",
       "      <th>lunch</th>\n",
       "      <th>test preparation course</th>\n",
       "      <th>math score</th>\n",
       "      <th>reading score</th>\n",
       "      <th>writing score</th>\n",
       "    </tr>\n",
       "  </thead>\n",
       "  <tbody>\n",
       "    <tr>\n",
       "      <th>0</th>\n",
       "      <td>female</td>\n",
       "      <td>group B</td>\n",
       "      <td>bachelor's degree</td>\n",
       "      <td>standard</td>\n",
       "      <td>none</td>\n",
       "      <td>72</td>\n",
       "      <td>72</td>\n",
       "      <td>74</td>\n",
       "    </tr>\n",
       "    <tr>\n",
       "      <th>1</th>\n",
       "      <td>female</td>\n",
       "      <td>group C</td>\n",
       "      <td>some college</td>\n",
       "      <td>standard</td>\n",
       "      <td>completed</td>\n",
       "      <td>69</td>\n",
       "      <td>90</td>\n",
       "      <td>88</td>\n",
       "    </tr>\n",
       "    <tr>\n",
       "      <th>2</th>\n",
       "      <td>female</td>\n",
       "      <td>group B</td>\n",
       "      <td>master's degree</td>\n",
       "      <td>standard</td>\n",
       "      <td>none</td>\n",
       "      <td>90</td>\n",
       "      <td>95</td>\n",
       "      <td>93</td>\n",
       "    </tr>\n",
       "    <tr>\n",
       "      <th>3</th>\n",
       "      <td>male</td>\n",
       "      <td>group A</td>\n",
       "      <td>associate's degree</td>\n",
       "      <td>free/reduced</td>\n",
       "      <td>none</td>\n",
       "      <td>47</td>\n",
       "      <td>57</td>\n",
       "      <td>44</td>\n",
       "    </tr>\n",
       "    <tr>\n",
       "      <th>4</th>\n",
       "      <td>male</td>\n",
       "      <td>group C</td>\n",
       "      <td>some college</td>\n",
       "      <td>standard</td>\n",
       "      <td>none</td>\n",
       "      <td>76</td>\n",
       "      <td>78</td>\n",
       "      <td>75</td>\n",
       "    </tr>\n",
       "  </tbody>\n",
       "</table>\n",
       "</div>"
      ],
      "text/plain": [
       "   gender race/ethnicity parental level of education         lunch  \\\n",
       "0  female        group B           bachelor's degree      standard   \n",
       "1  female        group C                some college      standard   \n",
       "2  female        group B             master's degree      standard   \n",
       "3    male        group A          associate's degree  free/reduced   \n",
       "4    male        group C                some college      standard   \n",
       "\n",
       "  test preparation course  math score  reading score  writing score  \n",
       "0                    none          72             72             74  \n",
       "1               completed          69             90             88  \n",
       "2                    none          90             95             93  \n",
       "3                    none          47             57             44  \n",
       "4                    none          76             78             75  "
      ]
     },
     "metadata": {},
     "output_type": "display_data"
    },
    {
     "data": {
      "text/plain": [
       "gender                         1\n",
       "race/ethnicity                 1\n",
       "parental level of education    1\n",
       "lunch                          1\n",
       "test preparation course        1\n",
       "math score                     1\n",
       "reading score                  1\n",
       "writing score                  1\n",
       "dtype: int64"
      ]
     },
     "metadata": {},
     "output_type": "display_data"
    }
   ],
   "source": [
    "import pandas as pd\n",
    "st_d = pd.read_csv('data/students_performance.csv', sep=',')\n",
    "#student_data.count()\n",
    "display(student_data.head())\n",
    "#display(student_data['writing score'].iloc[155])\n",
    "#display(student_data.info())\n",
    "#display(student_data['race/ethnicity'].dec())\n",
    "#display(st_d[st_d['test preparation course']=='completed']['reading score'].mean())\n",
    "display(st_d[st_d['math score']==0].count())\n"
   ]
  },
  {
   "cell_type": "code",
   "execution_count": 170,
   "metadata": {},
   "outputs": [
    {
     "data": {
      "text/plain": [
       "0        25.200000\n",
       "1        15.800000\n",
       "2        18.750000\n",
       "3        15.750000\n",
       "4        17.750000\n",
       "           ...    \n",
       "13575    12.600000\n",
       "13576    16.625000\n",
       "13577    15.750000\n",
       "13578    17.444444\n",
       "13579    12.444444\n",
       "Name: MeanRoomSquare, Length: 13580, dtype: float64"
      ]
     },
     "metadata": {},
     "output_type": "display_data"
    }
   ],
   "source": [
    "import pandas as pd\n",
    "m_d = pd.read_csv('data/melb_data.csv', sep=',')\n",
    "m_d2=m_d.copy()\n",
    "#print(list(m_d.columns.values))\n",
    "m_d2.drop(['index','Coordinates'],axis=1,inplace=True)\n",
    "#print(list(m_d2.columns.values))\n",
    "tot_r=m_d2['Bathroom']+m_d2['Bedroom']+m_d2['Rooms']\n",
    "#display(tot_r)\n",
    "m_d2['MeanRoomSquare']=m_d2['BuildingArea']/tot_r\n",
    "display(m_d2['MeanRoomSquare'])\n"
   ]
  },
  {
   "cell_type": "code",
   "execution_count": 175,
   "metadata": {},
   "outputs": [
    {
     "data": {
      "text/plain": [
       "84.93080566562"
      ]
     },
     "metadata": {},
     "output_type": "display_data"
    }
   ],
   "source": [
    "co_df = pd.DataFrame({\n",
    "    'country': ['Англия', 'Канада', 'США', 'Россия', 'Украина', 'Беларусь', 'Казахстан'],\n",
    "    'population': [56.29, 38.05, 322.28, 146.24, 45.5, 9.5, 17.04],\n",
    "    'square': [133396, 9984670, 9826630, 17125191, 603628, 207600, 2724902]\n",
    "})\n",
    "#display(co_df)\n",
    "co_df['plot']=co_df['population']/co_df['square']*1000000\n",
    "display(co_df['plot'].mean())\n",
    "\n",
    "\n"
   ]
  },
  {
   "cell_type": "code",
   "execution_count": 220,
   "metadata": {},
   "outputs": [
    {
     "data": {
      "text/plain": [
       "5    11759\n",
       "6     1063\n",
       "0      597\n",
       "1      133\n",
       "3       28\n",
       "Name: W_d, dtype: int64"
      ]
     },
     "metadata": {},
     "output_type": "display_data"
    },
    {
     "name": "stdout",
     "output_type": "stream",
     "text": [
      "['index' 'Suburb' 'Address' 'Rooms' 'Type' 'Price' 'Method' 'SellerG'\n",
      " 'Date' 'Distance' 'Postcode' 'Bedroom' 'Bathroom' 'Car' 'Landsize'\n",
      " 'BuildingArea' 'YearBuilt' 'CouncilArea' 'Lattitude' 'Longtitude'\n",
      " 'Regionname' 'Propertycount' 'Coordinates' 'Date1' 'W_d']\n"
     ]
    },
    {
     "data": {
      "text/plain": [
       "1    12822\n",
       "0      758\n",
       "Name: Weekend, dtype: int64"
      ]
     },
     "metadata": {},
     "output_type": "display_data"
    },
    {
     "data": {
      "text/plain": [
       "1081198.6406956792"
      ]
     },
     "metadata": {},
     "output_type": "display_data"
    }
   ],
   "source": [
    "from calendar import weekday\n",
    "import pandas as pd\n",
    "m_d = pd.read_csv('data/melb_data.csv', sep=',')\n",
    "#print(m_d.columns.values)\n",
    "m_d['Date1'] = pd.to_datetime(m_d['Date'], dayfirst=True)\n",
    "delta_days = m_d['Date1'] - pd.to_datetime('2016-01-01') \n",
    "#print(pd.to_datetime('2016-01-01'))\n",
    "\n",
    "#display(delta_days)\n",
    "m_d['W_d']=m_d['Date1'].dt.dayofweek\n",
    "display(m_d['W_d'].value_counts())\n",
    "print(m_d.columns.values)\n",
    "def get_weekend(weekday):\n",
    "    #we_list[5,6]\n",
    "    if (weekday==5) | (weekday==6):\n",
    "        return 1\n",
    "    else:\n",
    "        return 0\n",
    "m_d['Weekend']=m_d['W_d'].apply(get_weekend)\n",
    "display(m_d['Weekend'].value_counts())\n",
    "display(m_d[m_d['Weekend']==1]['Price'].mean())"
   ]
  },
  {
   "cell_type": "code",
   "execution_count": 196,
   "metadata": {},
   "outputs": [
    {
     "data": {
      "text/html": [
       "<div>\n",
       "<style scoped>\n",
       "    .dataframe tbody tr th:only-of-type {\n",
       "        vertical-align: middle;\n",
       "    }\n",
       "\n",
       "    .dataframe tbody tr th {\n",
       "        vertical-align: top;\n",
       "    }\n",
       "\n",
       "    .dataframe thead th {\n",
       "        text-align: right;\n",
       "    }\n",
       "</style>\n",
       "<table border=\"1\" class=\"dataframe\">\n",
       "  <thead>\n",
       "    <tr style=\"text-align: right;\">\n",
       "      <th></th>\n",
       "      <th>City</th>\n",
       "      <th>Colors Reported</th>\n",
       "      <th>Shape Reported</th>\n",
       "      <th>State</th>\n",
       "      <th>Time</th>\n",
       "      <th>Date</th>\n",
       "    </tr>\n",
       "  </thead>\n",
       "  <tbody>\n",
       "    <tr>\n",
       "      <th>0</th>\n",
       "      <td>Ithaca</td>\n",
       "      <td>NaN</td>\n",
       "      <td>TRIANGLE</td>\n",
       "      <td>NY</td>\n",
       "      <td>6/1/1930 22:00</td>\n",
       "      <td>1930-01-06 22:00:00</td>\n",
       "    </tr>\n",
       "    <tr>\n",
       "      <th>1</th>\n",
       "      <td>Willingboro</td>\n",
       "      <td>NaN</td>\n",
       "      <td>OTHER</td>\n",
       "      <td>NJ</td>\n",
       "      <td>6/30/1930 20:00</td>\n",
       "      <td>1930-06-30 20:00:00</td>\n",
       "    </tr>\n",
       "    <tr>\n",
       "      <th>2</th>\n",
       "      <td>Holyoke</td>\n",
       "      <td>NaN</td>\n",
       "      <td>OVAL</td>\n",
       "      <td>CO</td>\n",
       "      <td>2/15/1931 14:00</td>\n",
       "      <td>1931-02-15 14:00:00</td>\n",
       "    </tr>\n",
       "    <tr>\n",
       "      <th>3</th>\n",
       "      <td>Abilene</td>\n",
       "      <td>NaN</td>\n",
       "      <td>DISK</td>\n",
       "      <td>KS</td>\n",
       "      <td>6/1/1931 13:00</td>\n",
       "      <td>1931-01-06 13:00:00</td>\n",
       "    </tr>\n",
       "    <tr>\n",
       "      <th>4</th>\n",
       "      <td>New York Worlds Fair</td>\n",
       "      <td>NaN</td>\n",
       "      <td>LIGHT</td>\n",
       "      <td>NY</td>\n",
       "      <td>4/18/1933 19:00</td>\n",
       "      <td>1933-04-18 19:00:00</td>\n",
       "    </tr>\n",
       "  </tbody>\n",
       "</table>\n",
       "</div>"
      ],
      "text/plain": [
       "                   City Colors Reported Shape Reported State             Time  \\\n",
       "0                Ithaca             NaN       TRIANGLE    NY   6/1/1930 22:00   \n",
       "1           Willingboro             NaN          OTHER    NJ  6/30/1930 20:00   \n",
       "2               Holyoke             NaN           OVAL    CO  2/15/1931 14:00   \n",
       "3               Abilene             NaN           DISK    KS   6/1/1931 13:00   \n",
       "4  New York Worlds Fair             NaN          LIGHT    NY  4/18/1933 19:00   \n",
       "\n",
       "                 Date  \n",
       "0 1930-01-06 22:00:00  \n",
       "1 1930-06-30 20:00:00  \n",
       "2 1931-02-15 14:00:00  \n",
       "3 1931-01-06 13:00:00  \n",
       "4 1933-04-18 19:00:00  "
      ]
     },
     "metadata": {},
     "output_type": "display_data"
    },
    {
     "data": {
      "text/plain": [
       "1999    2774\n",
       "2000    2635\n",
       "1998    1743\n",
       "1995    1344\n",
       "1997    1237\n",
       "        ... \n",
       "1936       2\n",
       "1930       2\n",
       "1935       1\n",
       "1934       1\n",
       "1933       1\n",
       "Name: Year, Length: 68, dtype: int64"
      ]
     },
     "metadata": {},
     "output_type": "display_data"
    }
   ],
   "source": [
    "import pandas as pd\n",
    "u_d = pd.read_csv('data/ufo.csv', sep=',')\n",
    "u_d['Date']=pd.to_datetime(u_d['Time'], dayfirst=True)\n",
    "display(u_d.head())\n",
    "u_d['Year']=u_d['Date'].dt.year\n",
    "display(u_d['Year'].value_counts())"
   ]
  },
  {
   "cell_type": "code",
   "execution_count": 205,
   "metadata": {},
   "outputs": [
    {
     "name": "stdout",
     "output_type": "stream",
     "text": [
      "['index' 'Suburb' 'Address' 'Rooms' 'Type' 'Price' 'Method' 'SellerG'\n",
      " 'Date' 'Distance' 'Postcode' 'Bedroom' 'Bathroom' 'Car' 'Landsize'\n",
      " 'BuildingArea' 'YearBuilt' 'CouncilArea' 'Lattitude' 'Longtitude'\n",
      " 'Regionname' 'Propertycount' 'Coordinates']\n"
     ]
    },
    {
     "data": {
      "text/plain": [
       "Index(['St', 'Rd', 'Ct', 'Dr', 'Av', 'Gr', 'Pde', 'Pl', 'Cr', 'Cl'], dtype='object')"
      ]
     },
     "metadata": {},
     "output_type": "display_data"
    },
    {
     "data": {
      "text/plain": [
       "St       8012\n",
       "Rd       2825\n",
       "Ct        612\n",
       "Dr        447\n",
       "other     420\n",
       "Av        321\n",
       "Gr        311\n",
       "Pde       211\n",
       "Pl        169\n",
       "Cr        152\n",
       "Cl        100\n",
       "Name: StreetType, dtype: int64"
      ]
     },
     "metadata": {},
     "output_type": "display_data"
    }
   ],
   "source": [
    "import pandas as pd\n",
    "m_d = pd.read_csv('data/melb_data.csv', sep=',')\n",
    "print(m_d.columns.values)\n",
    "def get_st_t(adr):\n",
    "    ex_li=['N','S','W','E']\n",
    "    adr_li=adr.split(' ')\n",
    "    st_t=adr_li[-1]\n",
    "    if st_t in ex_li:\n",
    "        st_t=adr_li[-2]\n",
    "    return st_t\n",
    "str_typ=m_d['Address'].apply(get_st_t)\n",
    "#display(str_typ.value_counts())\n",
    "pop_typ=str_typ.value_counts().nlargest(10).index\n",
    "display(pop_typ)\n",
    "m_d['StreetType']=str_typ.apply(lambda x: x if x in pop_typ else 'other')\n",
    "display(m_d['StreetType'].value_counts())\n",
    "m_d=m_d.drop('Address', axis=1)\n",
    "\n",
    "\n"
   ]
  },
  {
   "cell_type": "code",
   "execution_count": 246,
   "metadata": {},
   "outputs": [
    {
     "name": "stdout",
     "output_type": "stream",
     "text": [
      "<class 'pandas.core.frame.DataFrame'>\n",
      "RangeIndex: 300000 entries, 0 to 299999\n",
      "Data columns (total 14 columns):\n",
      " #   Column                   Non-Null Count   Dtype  \n",
      "---  ------                   --------------   -----  \n",
      " 0   starttime                300000 non-null  object \n",
      " 1   stoptime                 300000 non-null  object \n",
      " 2   start station id         299831 non-null  float64\n",
      " 3   start station name       299831 non-null  object \n",
      " 4   start station latitude   300000 non-null  float64\n",
      " 5   start station longitude  300000 non-null  float64\n",
      " 6   end station id           299831 non-null  float64\n",
      " 7   end station name         299831 non-null  object \n",
      " 8   end station latitude     300000 non-null  float64\n",
      " 9   end station longitude    300000 non-null  float64\n",
      " 10  bikeid                   300000 non-null  int64  \n",
      " 11  usertype                 300000 non-null  object \n",
      " 12  birth year               300000 non-null  int64  \n",
      " 13  gender                   300000 non-null  int64  \n",
      "dtypes: float64(6), int64(3), object(5)\n",
      "memory usage: 32.0+ MB\n",
      "None\n"
     ]
    },
    {
     "data": {
      "text/plain": [
       "West St & Chambers St          1963\n",
       "12 Ave & W 40 St               1909\n",
       "Pershing Square North          1850\n",
       "Central Park S & 6 Ave         1828\n",
       "E 17 St & Broadway             1804\n",
       "                               ... \n",
       "Exchange Place                    3\n",
       "Union St                          1\n",
       "Warren St                         1\n",
       "Montrose Ave & Bushwick Ave       1\n",
       "Liberty Light Rail                1\n",
       "Name: end station name, Length: 765, dtype: int64"
      ]
     },
     "metadata": {},
     "output_type": "display_data"
    }
   ],
   "source": [
    "import pandas as pd\n",
    "cb_td = pd.read_csv('data/cb_td.csv', sep=',')\n",
    "print(cb_td.info())\n",
    "display(cb_td['end station name'].value_counts())"
   ]
  },
  {
   "cell_type": "code",
   "execution_count": 274,
   "metadata": {},
   "outputs": [
    {
     "data": {
      "text/plain": [
       "Price    1300000.0\n",
       "Name: 18, dtype: object"
      ]
     },
     "metadata": {},
     "output_type": "display_data"
    }
   ],
   "source": [
    "import pandas as pd\n",
    "\n",
    "melb_df = pd.read_csv('data/melb_data_fe.csv')\n",
    "#melb_df.head()\n",
    "#display(melb_df.info())\n",
    "melb_df['Date']=pd.to_datetime(melb_df['Date'], dayfirst=True)\n",
    "#display(melb_df.info())\n",
    "melb_df['Month']=melb_df['Date'].dt.quarter\n",
    "#display(melb_df['Month'].value_counts())\n",
    "#melb_df.sort_values(by=['Distance', 'Price']).loc[::10, ['Distance', 'Price']]\n",
    "#melb_df.sort_values(by=['Price', 'Distance']).loc[::5, ['Distance', 'Price']]\n",
    "#melb_df2=melb_df.sort_values(by=['AreaRatio'], ascending=False, ignore_index=True)\n",
    "#display(melb_df2.head())\n",
    "#display(melb_df2.loc[1558,['BuildingArea']])\n",
    "df3=melb_df[(melb_df['Type']=='townhouse')&(melb_data['Rooms']>2)]\n",
    "#display(melb_df[(melb_df['Type']=='T')&(melb_data['Rooms']>2)])\n",
    "#display(melb_df['Type'].value_counts())\n",
    "#display(df3.head())\n",
    "df3_1=df3.sort_values(by=['Rooms','MeanRoomsSquare'],ascending=[True,False],ignore_index=True)\n",
    "display(df3_1.loc[18,['Price']])"
   ]
  }
 ],
 "metadata": {
  "kernelspec": {
   "display_name": "Python 3.10.6 64-bit",
   "language": "python",
   "name": "python3"
  },
  "language_info": {
   "codemirror_mode": {
    "name": "ipython",
    "version": 3
   },
   "file_extension": ".py",
   "mimetype": "text/x-python",
   "name": "python",
   "nbconvert_exporter": "python",
   "pygments_lexer": "ipython3",
   "version": "3.10.6"
  },
  "orig_nbformat": 4,
  "vscode": {
   "interpreter": {
    "hash": "a42ccb73e7d9bfdf27e036f1d2b8b681e55fc0743cc5586bc2474d4a60f4b886"
   }
  }
 },
 "nbformat": 4,
 "nbformat_minor": 2
}
